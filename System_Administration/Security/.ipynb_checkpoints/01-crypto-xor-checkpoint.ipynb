{
 "cells": [
  {
   "cell_type": "markdown",
   "metadata": {},
   "source": [
    "### Crypto Basic\n",
    "## The Basic building blocks"
   ]
  },
  {
   "cell_type": "code",
   "execution_count": 1,
   "metadata": {},
   "outputs": [
    {
     "data": {
      "text/plain": [
       "'0b10'"
      ]
     },
     "execution_count": 1,
     "metadata": {},
     "output_type": "execute_result"
    }
   ],
   "source": [
    "#convert numbers to binary\n",
    "bin(2)"
   ]
  },
  {
   "cell_type": "code",
   "execution_count": 5,
   "metadata": {},
   "outputs": [
    {
     "name": "stdout",
     "output_type": "stream",
     "text": [
      "0b0\n",
      "0b0\n"
     ]
    }
   ],
   "source": [
    "#EXclusive OR\n",
    "print(bin(0b011 ^0b011))\n",
    "print(bin(12 ^ 12))"
   ]
  },
  {
   "cell_type": "code",
   "execution_count": 10,
   "metadata": {},
   "outputs": [
    {
     "name": "stdout",
     "output_type": "stream",
     "text": [
      "Unicode of A : 65\n",
      "Unicode of a : 97\n",
      "0b1000001\n"
     ]
    }
   ],
   "source": [
    "##Getting Unicode Representataions\n",
    "print(\"Unicode of A :\",ord(\"A\"))\n",
    "print(\"Unicode of a :\",ord(\"a\"))\n",
    "print(bin(ord(\"A\")))"
   ]
  },
  {
   "cell_type": "code",
   "execution_count": 13,
   "metadata": {},
   "outputs": [
    {
     "name": "stdout",
     "output_type": "stream",
     "text": [
      "0b111\n",
      "7\n"
     ]
    }
   ],
   "source": [
    "#Dont need to convert into binary just understanding\n",
    "print(bin(0b111 ^ 0b000))\n",
    "print(7 ^ 0)"
   ]
  },
  {
   "cell_type": "code",
   "execution_count": 14,
   "metadata": {},
   "outputs": [
    {
     "name": "stdout",
     "output_type": "stream",
     "text": [
      "0b0\n"
     ]
    }
   ],
   "source": [
    "#Exclusive Or itself you will get Zero Always\n",
    "print(bin(0b111 ^0b111))"
   ]
  },
  {
   "cell_type": "code",
   "execution_count": 19,
   "metadata": {},
   "outputs": [
    {
     "name": "stdout",
     "output_type": "stream",
     "text": [
      "0b1100\n",
      "0b1010\n"
     ]
    }
   ],
   "source": [
    "#final ideaa: if you Xor twice with number \n",
    "#you get back orginal Number back\n",
    "r1= 0b1010 ^ 0b0110\n",
    "print(bin(r1))\n",
    "\n",
    "r2= r1 ^ 0b0110\n",
    "print(bin(r2))"
   ]
  },
  {
   "cell_type": "code",
   "execution_count": 20,
   "metadata": {},
   "outputs": [],
   "source": [
    "message = \"Hellow , I am Hiding in the bunker. come get me Please!\""
   ]
  },
  {
   "cell_type": "code",
   "execution_count": 23,
   "metadata": {},
   "outputs": [
    {
     "name": "stdout",
     "output_type": "stream",
     "text": [
      "72\n",
      "101\n",
      "108\n",
      "108\n",
      "111\n"
     ]
    }
   ],
   "source": [
    "for c in message[:5]:\n",
    "    print(ord(c))"
   ]
  },
  {
   "cell_type": "code",
   "execution_count": 28,
   "metadata": {},
   "outputs": [
    {
     "data": {
      "text/plain": [
       "'H'"
      ]
     },
     "execution_count": 28,
     "metadata": {},
     "output_type": "execute_result"
    }
   ],
   "source": [
    "chr(72)"
   ]
  },
  {
   "cell_type": "code",
   "execution_count": 29,
   "metadata": {},
   "outputs": [],
   "source": [
    "key=0b10101010"
   ]
  },
  {
   "cell_type": "code",
   "execution_count": 30,
   "metadata": {},
   "outputs": [
    {
     "data": {
      "text/plain": [
       "170"
      ]
     },
     "execution_count": 30,
     "metadata": {},
     "output_type": "execute_result"
    }
   ],
   "source": [
    "int(key)"
   ]
  },
  {
   "cell_type": "markdown",
   "metadata": {},
   "source": [
    "## lets do the Encryption"
   ]
  },
  {
   "cell_type": "code",
   "execution_count": 31,
   "metadata": {},
   "outputs": [],
   "source": [
    "message =\"Hellow , I am hiding in the bunker .come get me please!\""
   ]
  },
  {
   "cell_type": "code",
   "execution_count": 34,
   "metadata": {},
   "outputs": [],
   "source": [
    "def encrypt(msg,key):\n",
    "    \n",
    "    encrypted_message=\"\"\n",
    "    \n",
    "    for c in msg:\n",
    "        c_bin = ord(c)\n",
    "        c_encrypted = c_bin ^ key\n",
    "        c_encrypted = chr(c_encrypted)\n",
    "        \n",
    "        encrypted_message += c_encrypted\n",
    "        \n",
    "    return encrypted_message\n",
    "        "
   ]
  },
  {
   "cell_type": "code",
   "execution_count": 36,
   "metadata": {},
   "outputs": [],
   "source": [
    "key = 170\n",
    "cypher_text = encrypt(message,key)\n"
   ]
  },
  {
   "cell_type": "code",
   "execution_count": 37,
   "metadata": {},
   "outputs": [
    {
     "name": "stdout",
     "output_type": "stream",
     "text": [
      "âÏÆÆÅÝãËÇÂÃÎÃÄÍÃÄÞÂÏÈßÄÁÏØÉÅÇÏÍÏÞÇÏÚÆÏËÙÏ\n"
     ]
    }
   ],
   "source": [
    "print(cypher_text)"
   ]
  },
  {
   "cell_type": "code",
   "execution_count": 38,
   "metadata": {},
   "outputs": [
    {
     "name": "stdout",
     "output_type": "stream",
     "text": [
      "226\n",
      "â\n"
     ]
    }
   ],
   "source": [
    "print(    ord(\"H\")  ^170 )\n",
    "print(    chr(ord(\"H\") ^170))"
   ]
  },
  {
   "cell_type": "code",
   "execution_count": 41,
   "metadata": {},
   "outputs": [],
   "source": [
    "def decrypt(msg,key):\n",
    "    \n",
    "    decrypted_message = \" \"\n",
    "    \n",
    "    for c in msg:\n",
    "        \n",
    "        c_bin = ord(c)\n",
    "        c_decrypted = c_bin ^ key\n",
    "        c_decrypted = chr(c_decrypted)\n",
    "        \n",
    "        \n",
    "        decrypted_message += c_decrypted\n",
    "        \n",
    "    return decrypted_message"
   ]
  },
  {
   "cell_type": "code",
   "execution_count": 43,
   "metadata": {},
   "outputs": [
    {
     "name": "stdout",
     "output_type": "stream",
     "text": [
      " Hellow , I am hiding in the bunker .come get me please!\n"
     ]
    }
   ],
   "source": [
    "key= 170 \n",
    "decrypted = decrypt(cypher_text,key)\n",
    "print(decrypted)"
   ]
  },
  {
   "cell_type": "markdown",
   "metadata": {},
   "source": [
    "## Breaking the key"
   ]
  },
  {
   "cell_type": "code",
   "execution_count": 45,
   "metadata": {},
   "outputs": [
    {
     "name": "stdout",
     "output_type": "stream",
     "text": [
      " áÌÅÅÆÞ",
      "àÈÄÁÀÍÀÇÎÀÇÝÁÌËÜÇÂÌÛÊÆÄÌÎÌÝÄÌÙÅÌÈÚÌ\n"
     ]
    }
   ],
   "source": [
    "#lets try brute forceing it!\n",
    "key= 3 \n",
    "decrypted =decrypt(cypher_text,key)\n",
    "print(decrypted)"
   ]
  },
  {
   "cell_type": "code",
   "execution_count": 46,
   "metadata": {},
   "outputs": [
    {
     "name": "stdout",
     "output_type": "stream",
     "text": [
      " Boffe}*&*C*kg*bcncdm*cd*~bo*hdaox*$iego*mo~*go*zfokyo+\n",
      " Cnggd|+'+B+jf+cbobel+be+cn+i~e`ny+%hdfn+ln+fn+{gnjxn*\n",
      " @mddg($(A(ie(`alafo(af(|`m(j}fcmz(&kgem(om|(em(xdmi{m)\n",
      " Aleef~)%)@)hd)a`m`gn)`g)}al)k|gbl{)'jfdl)nl})dl)yelhzl(\n",
      " Fkbbay.\".G.oc.fgjg`i.g`.zfk.l{`ek|. mack.ikz.ck.~bko}k/\n",
      " Gjcc`x/#/F/nb/gfkfah/fa/{gj/mzadj}/!l`bj/hj{/bj/cjn|j.\n",
      " Di``c{, ,E,ma,dehebk,eb,xdi,nybgi~,\"ocai,kix,ai,|`imi-\n",
      " Ehaabz-!-D-l`-edidcj-dc-yeh-oxcfh-#nb`h-jhy-`h-}ahl~h,\n",
      " Jgnnmu\".\"K\"co\"jkfkle\"kl\"vjg\"`wligp\",amog\"egv\"og\"rngcqg#\n",
      " Kfoolt#/#J#bn#kjgjmd#jm#wkf#avmhfq#-`lnf#dfw#nf#sofbpf\"\n",
      " Hellow , I am hiding in the bunker .come get me please!\n",
      " Idmmnv!-!H!`l!ihehof!ho!uid!ctojds!/bnld!fdu!ld!qmd`rd \n"
     ]
    }
   ],
   "source": [
    "for key in range(160,172):\n",
    "    print(decrypt(cypher_text,key))"
   ]
  },
  {
   "cell_type": "markdown",
   "metadata": {},
   "source": [
    "# The Problem"
   ]
  },
  {
   "cell_type": "code",
   "execution_count": 47,
   "metadata": {},
   "outputs": [],
   "source": [
    "# The problem is : how do we share this private key?\n"
   ]
  },
  {
   "cell_type": "code",
   "execution_count": 48,
   "metadata": {},
   "outputs": [],
   "source": [
    "# solution : share the key with everyone"
   ]
  },
  {
   "cell_type": "code",
   "execution_count": null,
   "metadata": {},
   "outputs": [],
   "source": []
  }
 ],
 "metadata": {
  "kernelspec": {
   "display_name": "Python 3",
   "language": "python",
   "name": "python3"
  },
  "language_info": {
   "codemirror_mode": {
    "name": "ipython",
    "version": 3
   },
   "file_extension": ".py",
   "mimetype": "text/x-python",
   "name": "python",
   "nbconvert_exporter": "python",
   "pygments_lexer": "ipython3",
   "version": "3.6.9"
  }
 },
 "nbformat": 4,
 "nbformat_minor": 2
}
